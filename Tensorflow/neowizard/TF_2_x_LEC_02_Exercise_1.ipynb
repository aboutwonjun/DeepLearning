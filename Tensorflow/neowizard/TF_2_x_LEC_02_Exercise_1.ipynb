{
  "nbformat": 4,
  "nbformat_minor": 0,
  "metadata": {
    "colab": {
      "name": "TF_2.x_LEC_02_Exercise_1.ipynb",
      "provenance": [],
      "collapsed_sections": []
    },
    "kernelspec": {
      "name": "python3",
      "display_name": "Python 3"
    },
    "language_info": {
      "name": "python"
    }
  },
  "cells": [
    {
      "cell_type": "markdown",
      "source": [
        "# [TensorFlow 2.x 강의 02] Eager Execution (즉시 실행 모드)\n",
        "\n",
        "1.0과는 달리 그래프, 세션을 생성하지 않고 즉시 실행 가능(Eager Execution) -> 파이썬 처럼 사용가능\n",
        "\n",
        "사용자에게 High-Level API로 Keras 제공 "
      ],
      "metadata": {
        "id": "kgmpLVjtpGfW"
      }
    },
    {
      "cell_type": "code",
      "execution_count": null,
      "metadata": {
        "colab": {
          "base_uri": "https://localhost:8080/",
          "height": 35
        },
        "id": "Jocw1U4zoldR",
        "outputId": "db2ba07b-cc6e-4d6e-c6c9-1a5d27d937b0"
      },
      "outputs": [
        {
          "output_type": "execute_result",
          "data": {
            "application/vnd.google.colaboratory.intrinsic+json": {
              "type": "string"
            },
            "text/plain": [
              "'2.7.0'"
            ]
          },
          "metadata": {},
          "execution_count": 1
        }
      ],
      "source": [
        "import tensorflow as tf\n",
        "import numpy as np\n",
        "\n",
        "tf.__version__"
      ]
    },
    {
      "cell_type": "code",
      "source": [
        "a = tf.constant(1.0)\n",
        "b = tf.constant(2.0)\n",
        "\n",
        "c = a + b\n",
        "print(c.numpy())"
      ],
      "metadata": {
        "colab": {
          "base_uri": "https://localhost:8080/"
        },
        "id": "ui7et8PtpttC",
        "outputId": "9c5f65ee-ae15-4fd7-d294-700ce20b9ecc"
      },
      "execution_count": null,
      "outputs": [
        {
          "output_type": "stream",
          "name": "stdout",
          "text": [
            "3.0\n"
          ]
        }
      ]
    },
    {
      "cell_type": "code",
      "source": [
        "W = tf.Variable(tf.random.normal([1])) #가우시안 분포 = 정규분포 / https://supermemi.tistory.com/72\n",
        "print('초기 w값 = ', W.numpy()) #numpy 안쓰면 노드 정보 나옴\n",
        "print(W)"
      ],
      "metadata": {
        "colab": {
          "base_uri": "https://localhost:8080/"
        },
        "id": "bQ9-JKIGp8t7",
        "outputId": "0564d156-3b4e-4d91-8458-d9e6aeeb889d"
      },
      "execution_count": null,
      "outputs": [
        {
          "output_type": "stream",
          "name": "stdout",
          "text": [
            "초기 w값 =  [-1.8369076]\n",
            "<tf.Variable 'Variable:0' shape=(1,) dtype=float32, numpy=array([-1.8369076], dtype=float32)>\n"
          ]
        }
      ]
    },
    {
      "cell_type": "code",
      "source": [
        "a = tf.constant(1.0)\n",
        "b = tf.constant(3.0)\n",
        "\n",
        "# 함수 정의\n",
        "def tensor_sum(x, y):\n",
        "    return x + y\n",
        "\n",
        "result = tensor_sum(a, b)\n",
        "\n",
        "print(type(result))\n",
        "print(result.numpy())"
      ],
      "metadata": {
        "colab": {
          "base_uri": "https://localhost:8080/"
        },
        "id": "n1swyxveqwFk",
        "outputId": "2dff7b36-6f3e-4654-e3ab-677252bbcb0f"
      },
      "execution_count": null,
      "outputs": [
        {
          "output_type": "stream",
          "name": "stdout",
          "text": [
            "<class 'tensorflow.python.framework.ops.EagerTensor'>\n",
            "4.0\n"
          ]
        }
      ]
    },
    {
      "cell_type": "code",
      "source": [
        ""
      ],
      "metadata": {
        "id": "r0TwXKsHq85K"
      },
      "execution_count": null,
      "outputs": []
    }
  ]
}