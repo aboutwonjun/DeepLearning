{
  "nbformat": 4,
  "nbformat_minor": 0,
  "metadata": {
    "colab": {
      "name": "TF_2_x_LEC_15_CIFAR10_Example.ipynb",
      "provenance": []
    },
    "kernelspec": {
      "name": "python3",
      "display_name": "Python 3"
    },
    "language_info": {
      "name": "python"
    }
  },
  "cells": [
    {
      "cell_type": "code",
      "execution_count": null,
      "metadata": {
        "id": "hMdbCG2_JOwo"
      },
      "outputs": [],
      "source": [
        "import numpy as np\n",
        "import tensorflow as tf\n",
        "from tensorflow.keras.datasets import cifar10\n",
        "from tensorflow.keras.models import Sequential\n",
        "from tensorflow.keras.layers import Conv2D, MaxPool2D\n",
        "from tensorflow.keras.layers import Flatten, Dense, Dropout"
      ]
    },
    {
      "cell_type": "code",
      "source": [
        "(x_train, y_train),(x_test, y_test) = cifar10.load_data() #데이터셋 로드\n",
        " \n",
        "x_train=x_train.reshape(-1, 32, 32, 3) #reshape -1, 알아서 행열 맞춰줌, (-1,높이,너비,3차원(컬러))\n",
        "x_test=x_test.reshape(-1, 32, 32, 3)\n",
        "\n",
        "print(x_train.shape, x_test.shape)\n",
        "print(y_train.shape, y_test.shape)\n",
        "\n",
        "x_train = x_train.astype(np.float32) / 255.0 #최댓값 나눠줌으로써 0 또는 1로 정규화\n",
        "x_test = x_test.astype(np.float32) / 255.0"
      ],
      "metadata": {
        "colab": {
          "base_uri": "https://localhost:8080/"
        },
        "id": "QUS-Fr6PJU8o",
        "outputId": "b8417533-e6d5-4f41-ad7d-5308a6ea47c8"
      },
      "execution_count": null,
      "outputs": [
        {
          "output_type": "stream",
          "name": "stdout",
          "text": [
            "(50000, 32, 32, 3) (10000, 32, 32, 3)\n",
            "(50000, 1) (10000, 1)\n"
          ]
        }
      ]
    },
    {
      "cell_type": "code",
      "source": [
        "cnn = Sequential()\n",
        "\n",
        "cnn.add(Conv2D(input_shape = (32,32,3), kernel_size=(3,3),\n",
        "               filters = 32, activation = 'relu'))\n",
        "cnn.add(Conv2D(kernel_size=(3,3), filters = 64, activation = 'relu'))\n",
        "cnn.add(MaxPool2D(pool_size=(2,2)))\n",
        "cnn.add(Dropout(0.25))\n",
        "\n",
        "cnn.add(Flatten())\n",
        "\n",
        "cnn.add(Dense(128, activation='relu'))\n",
        "cnn.add(Dropout(0.5))\n",
        "cnn.add(Dense(10,activation = 'softmax'))\n",
        "\n"
      ],
      "metadata": {
        "id": "r94Kj9JyJWiG"
      },
      "execution_count": null,
      "outputs": []
    },
    {
      "cell_type": "code",
      "source": [
        "cnn.compile(loss='sparse_categorical_crossentropy',\n",
        "            optimizer=tf.keras.optimizers.Adam(), metrics=['accuracy'])\n",
        "\n",
        "cnn.summary()"
      ],
      "metadata": {
        "colab": {
          "base_uri": "https://localhost:8080/"
        },
        "id": "j4_E5FTVKzZ_",
        "outputId": "8f166b3b-e7a6-4f01-a07b-50b24e6bffe7"
      },
      "execution_count": null,
      "outputs": [
        {
          "output_type": "stream",
          "name": "stdout",
          "text": [
            "Model: \"sequential_1\"\n",
            "_________________________________________________________________\n",
            " Layer (type)                Output Shape              Param #   \n",
            "=================================================================\n",
            " conv2d (Conv2D)             (None, 30, 30, 32)        896       \n",
            "                                                                 \n",
            " conv2d_1 (Conv2D)           (None, 28, 28, 64)        18496     \n",
            "                                                                 \n",
            " max_pooling2d (MaxPooling2D  (None, 14, 14, 64)       0         \n",
            " )                                                               \n",
            "                                                                 \n",
            " dropout (Dropout)           (None, 14, 14, 64)        0         \n",
            "                                                                 \n",
            " flatten (Flatten)           (None, 12544)             0         \n",
            "                                                                 \n",
            " dense (Dense)               (None, 128)               1605760   \n",
            "                                                                 \n",
            " dropout_1 (Dropout)         (None, 128)               0         \n",
            "                                                                 \n",
            " dense_1 (Dense)             (None, 10)                1290      \n",
            "                                                                 \n",
            "=================================================================\n",
            "Total params: 1,626,442\n",
            "Trainable params: 1,626,442\n",
            "Non-trainable params: 0\n",
            "_________________________________________________________________\n"
          ]
        }
      ]
    },
    {
      "cell_type": "code",
      "source": [
        "hist = cnn.fit(x_train, y_train, batch_size=128,\n",
        "               epochs = 30, validation_data = (x_test, y_test))"
      ],
      "metadata": {
        "colab": {
          "base_uri": "https://localhost:8080/"
        },
        "id": "l_BSasyRLKAv",
        "outputId": "04d8f39b-c2d8-4729-e340-b66fa834fd2f"
      },
      "execution_count": null,
      "outputs": [
        {
          "output_type": "stream",
          "name": "stdout",
          "text": [
            "Epoch 1/30\n",
            "391/391 [==============================] - 267s 680ms/step - loss: 1.6245 - accuracy: 0.4117 - val_loss: 1.2471 - val_accuracy: 0.5645\n",
            "Epoch 2/30\n",
            "391/391 [==============================] - 249s 638ms/step - loss: 1.2848 - accuracy: 0.5400 - val_loss: 1.0877 - val_accuracy: 0.6218\n",
            "Epoch 3/30\n",
            "391/391 [==============================] - 171s 438ms/step - loss: 1.1639 - accuracy: 0.5863 - val_loss: 1.0144 - val_accuracy: 0.6435\n",
            "Epoch 4/30\n",
            "391/391 [==============================] - 170s 435ms/step - loss: 1.0753 - accuracy: 0.6191 - val_loss: 0.9648 - val_accuracy: 0.6603\n",
            "Epoch 5/30\n",
            "391/391 [==============================] - 170s 435ms/step - loss: 1.0096 - accuracy: 0.6453 - val_loss: 0.9237 - val_accuracy: 0.6720\n",
            "Epoch 6/30\n",
            "391/391 [==============================] - 170s 434ms/step - loss: 0.9682 - accuracy: 0.6559 - val_loss: 0.8894 - val_accuracy: 0.6890\n",
            "Epoch 7/30\n",
            "391/391 [==============================] - 169s 433ms/step - loss: 0.9083 - accuracy: 0.6784 - val_loss: 0.8755 - val_accuracy: 0.6975\n",
            "Epoch 8/30\n",
            "391/391 [==============================] - 169s 431ms/step - loss: 0.8625 - accuracy: 0.6924 - val_loss: 0.8926 - val_accuracy: 0.6884\n",
            "Epoch 9/30\n",
            "124/391 [========>.....................] - ETA: 1:50 - loss: 0.8321 - accuracy: 0.7000"
          ]
        }
      ]
    },
    {
      "cell_type": "code",
      "source": [
        ""
      ],
      "metadata": {
        "id": "wz9rtJzgLpyP"
      },
      "execution_count": null,
      "outputs": []
    }
  ]
}