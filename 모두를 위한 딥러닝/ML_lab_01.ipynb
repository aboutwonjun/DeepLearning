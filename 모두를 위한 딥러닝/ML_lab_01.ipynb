
#강의 버전 맞추기
import tensorflow.compat.v1 as tf
tf.disable_v2_behavior()

#기본 동작
# 그래프를 생성 -> Session을 통해 실행 
hello = tf.constant("Hello, TensorFlow!")

# start a TF session
sess = tf.Session()

# run the op and get result
print(sess.run(hello))


#그래프 생성 자세히
node1 = tf.constant(3.0, tf.float32)
node2 = tf.constant(4.0) # also tf.float32 implicitly
node3 = tf.add(node1, node2)

#그냥 실행하게 되면 노드의 정보만을 알려줌 
print("node1:", node1, "node2:", node2)
print("node3: ", node3)
# result
node1: Tensor("Const_1:0", shape=(), dtype=float32) node2: Tensor("Const_2:0", shape=(), dtype=float32)
node3:  Tensor("Add:0", shape=(), dtype=float32)


#Session을 통해 만들어진 그래프에 집어넣기
sess = tf.Session()
print("sess.run(node1, node2): ", sess.run([node1, node2]))
print("sess.run(node3): ", sess.run(node3))

# Reuslt 
sess.run(node1, node2):  [3.0, 4.0]
sess.run(node3):  7.0


a = tf.placeholder(tf.float32)
b = tf.placeholder(tf.float32)
adder_node = a + b
print(sess.run(adder_node, feed_dict={a: 3, b: 4.5}))
print(sess.run(adder_node, feed_dict={a: [1,3], b: [2, 4]}))

#result 
7.5
[ 3.  7.]

add_and_triple = adder_node * 3.
print(sess.run(add_and_triple, feed_dict={a: 3, b:4.5}))
